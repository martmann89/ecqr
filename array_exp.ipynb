{
 "cells": [
  {
   "cell_type": "code",
   "execution_count": 9,
   "metadata": {},
   "outputs": [
    {
     "name": "stdout",
     "output_type": "stream",
     "text": [
      "[1 2 3 4 5 6]\n",
      "[[1 2 3]\n",
      " [4 5 6]]\n",
      "[1 2 3 4 5 6 1 2 3 4 5 6]\n",
      "tf.Tensor(\n",
      "[0.16666667 0.08333333 0.         0.08333333 0.16666667 0.25\n",
      " 0.16666667 0.08333333 0.         0.08333333 0.16666667 0.25      ], shape=(12,), dtype=float64)\n"
     ]
    }
   ],
   "source": [
    "import numpy as np\n",
    "import tensorflow as tf\n",
    "a = np.arange(1,7)\n",
    "b = np.arange(1,7)\n",
    "print(a)\n",
    "a = a.reshape(2,3)\n",
    "print(a)\n",
    "a = a.flatten()\n",
    "a = np.concatenate([a,a])\n",
    "print(a)\n",
    "\n",
    "mad = tf.abs(a - tf.reduce_mean(b)) / len(a)\n",
    "print(mad)\n"
   ]
  }
 ],
 "metadata": {
  "kernelspec": {
   "display_name": "venv",
   "language": "python",
   "name": "python3"
  },
  "language_info": {
   "codemirror_mode": {
    "name": "ipython",
    "version": 3
   },
   "file_extension": ".py",
   "mimetype": "text/x-python",
   "name": "python",
   "nbconvert_exporter": "python",
   "pygments_lexer": "ipython3",
   "version": "3.8.10"
  },
  "orig_nbformat": 4
 },
 "nbformat": 4,
 "nbformat_minor": 2
}
